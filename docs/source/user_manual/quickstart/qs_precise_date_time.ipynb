{
 "cells": [
  {
   "cell_type": "markdown",
   "metadata": {},
   "source": [
    "# Precise Date Time basic usage"
   ]
  },
  {
   "cell_type": "code",
   "execution_count": 1,
   "metadata": {},
   "outputs": [],
   "source": [
    "from arepytools.timing.precisedatetime import PreciseDateTime"
   ]
  },
  {
   "cell_type": "code",
   "execution_count": 2,
   "metadata": {},
   "outputs": [
    {
     "name": "stdout",
     "output_type": "stream",
     "text": [
      "01-JAN-1985 00:00:00.000000000000\n",
      "23-MAY-1998 08:25:12.123456789012\n"
     ]
    }
   ],
   "source": [
    "# Time initialization\n",
    "default_time = PreciseDateTime()\n",
    "current_time = PreciseDateTime.now()\n",
    "any_time = PreciseDateTime.from_utc_string('23-MAY-1998 08:25:12.123456789012345')\n",
    "\n",
    "print(default_time)\n",
    "print(any_time)"
   ]
  },
  {
   "cell_type": "code",
   "execution_count": 3,
   "metadata": {},
   "outputs": [
    {
     "name": "stdout",
     "output_type": "stream",
     "text": [
      "422526312.1234568\n",
      "-422526312.1234568\n",
      "01-JAN-1985 00:00:02.000000000000\n",
      "False\n",
      "True\n"
     ]
    }
   ],
   "source": [
    "# Perform basic arithmetic and logical operations\n",
    "print(any_time - default_time)\n",
    "print(default_time - any_time)\n",
    "print(default_time + 2)\n",
    "print(default_time >= current_time)\n",
    "print(current_time == current_time)"
   ]
  },
  {
   "cell_type": "code",
   "execution_count": 4,
   "metadata": {},
   "outputs": [
    {
     "name": "stdout",
     "output_type": "stream",
     "text": [
      "18-NOV-1989 23:51:20.123456789012\n",
      "18-NOV-1989 23:51:20.123456789012\n"
     ]
    }
   ],
   "source": [
    "# Other initializations\n",
    "date_from_numeric_datetime = PreciseDateTime.from_numeric_datetime(\n",
    "            1989, 11, 18, 23, 51, 20, 123456789012\n",
    "        )\n",
    "date_fromisoformat = PreciseDateTime.fromisoformat(\"1989-11-18T23:51:20.123456789012Z\")\n",
    "\n",
    "print(date_from_numeric_datetime)\n",
    "print(date_fromisoformat)"
   ]
  }
 ],
 "metadata": {
  "kernelspec": {
   "display_name": "Python 3",
   "language": "python",
   "name": "python3"
  },
  "language_info": {
   "codemirror_mode": {
    "name": "ipython",
    "version": 3
   },
   "file_extension": ".py",
   "mimetype": "text/x-python",
   "name": "python",
   "nbconvert_exporter": "python",
   "pygments_lexer": "ipython3",
   "version": "3.10.13"
  }
 },
 "nbformat": 4,
 "nbformat_minor": 1
}
