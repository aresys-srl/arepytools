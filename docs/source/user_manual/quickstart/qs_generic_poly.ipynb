{
 "cells": [
  {
   "cell_type": "markdown",
   "metadata": {},
   "source": [
    "# Create and evaluate a generic polynomial"
   ]
  },
  {
   "cell_type": "code",
   "execution_count": 1,
   "metadata": {},
   "outputs": [],
   "source": [
    "from arepytools.math import genericpoly"
   ]
  },
  {
   "cell_type": "markdown",
   "metadata": {},
   "source": [
    "## Polynomial definition\n",
    "\n",
    "$$p(x,y)=2(x-x_{ref})^2+3(x-x_{ref})(y-y_{ref})+5$$\n",
    "\n",
    "where:\n",
    "\n",
    "$$x_{ref}=3.5$$\n",
    "\n",
    "$$y_{ref}=1.1$$"
   ]
  },
  {
   "cell_type": "code",
   "execution_count": 2,
   "metadata": {},
   "outputs": [
    {
     "name": "stdout",
     "output_type": "stream",
     "text": [
      "coefficients: [2, 3, 5]\n",
      "powers: [(2, 0), (1, 1), (0, 0)]\n",
      "reference values: [3.5, 1.1]\n",
      "\n"
     ]
    }
   ],
   "source": [
    "# Create polynomials\n",
    "\n",
    "coefficients = (2, 3, 5)\n",
    "powers = ((2,0), (1, 1), (0, 0))\n",
    "reference_values = (3.5, 1.1)\n",
    "\n",
    "poly_0 = genericpoly.GenericPoly(reference_values, coefficients, powers)\n",
    "\n",
    "print(poly_0)"
   ]
  },
  {
   "cell_type": "markdown",
   "metadata": {},
   "source": [
    "**Combine it with the io toolbox!**\n",
    "\n",
    "\n",
    "Replace these steps by parsing an xml file with the [io data toolbox](../../reference/api/io.rst) and pass the vector of polynomials to the helper function [create_sorted_poly_list()](../../reference/api/math.rst#arepytools.math.genericpoly.create_sorted_poly_list)"
   ]
  },
  {
   "cell_type": "markdown",
   "metadata": {},
   "source": [
    "## Polynomial evaluation\n",
    "\n",
    "$$p(5.2,3.3) = 2(5.2-3.5)^2 + 3(5.2-3.5)(3.3-1.1) + 5 = 22$$"
   ]
  },
  {
   "cell_type": "code",
   "execution_count": 3,
   "metadata": {},
   "outputs": [
    {
     "data": {
      "text/plain": [
       "22.0"
      ]
     },
     "execution_count": 3,
     "metadata": {},
     "output_type": "execute_result"
    }
   ],
   "source": [
    "# Polynomial evaluation\n",
    "\n",
    "poly_0.evaluate((5.2, 3.3))"
   ]
  },
  {
   "cell_type": "code",
   "execution_count": 4,
   "metadata": {},
   "outputs": [
    {
     "data": {
      "text/plain": [
       "22.0"
      ]
     },
     "execution_count": 4,
     "metadata": {},
     "output_type": "execute_result"
    }
   ],
   "source": [
    "# Verify the result\n",
    "\n",
    "2*(5.2-3.5)**2 + 3*(5.2-3.5)*(3.3-1.1) + 5"
   ]
  }
 ],
 "metadata": {
  "kernelspec": {
   "display_name": "Python 3",
   "language": "python",
   "name": "python3"
  },
  "language_info": {
   "codemirror_mode": {
    "name": "ipython",
    "version": 3
   },
   "file_extension": ".py",
   "mimetype": "text/x-python",
   "name": "python",
   "nbconvert_exporter": "python",
   "pygments_lexer": "ipython3",
   "version": "3.10.13"
  }
 },
 "nbformat": 4,
 "nbformat_minor": 1
}
