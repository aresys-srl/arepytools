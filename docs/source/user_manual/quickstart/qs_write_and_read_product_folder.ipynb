{
 "cells": [
  {
   "cell_type": "markdown",
   "metadata": {},
   "source": [
    "# Write and read product folder"
   ]
  },
  {
   "cell_type": "code",
   "execution_count": 1,
   "metadata": {},
   "outputs": [],
   "source": [
    "import numpy as np\n",
    "\n",
    "from arepytools.io import (\n",
    "    create_new_metadata,\n",
    "    create_product_folder,\n",
    "    read_metadata,\n",
    "    read_raster_with_raster_info,\n",
    "    write_metadata,\n",
    "    write_raster_with_raster_info,\n",
    ")\n",
    "from arepytools.io.metadata import ECellType, RasterInfo, SwathInfo\n",
    "from arepytools.timing.precisedatetime import PreciseDateTime as Pdt"
   ]
  },
  {
   "cell_type": "code",
   "execution_count": 2,
   "metadata": {},
   "outputs": [],
   "source": [
    "# create a ProductFolder\n",
    "output_product = \"test_out\"\n",
    "pf = create_product_folder(output_product)\n",
    "# get channel 1 raster filename and metadata filename\n",
    "ch1_raster_filename = pf.get_channel_data(1)\n",
    "ch1_metadata_filename = pf.get_channel_metadata(1)\n",
    "# creating a raster info for channel 1\n",
    "raster_info = RasterInfo(lines=5, samples=5, celltype=ECellType.float32, filename=ch1_raster_filename.name)\n",
    "# creating a metadata object\n",
    "ch1_metadata = create_new_metadata()\n",
    "# adding raster info to it\n",
    "ch1_metadata.insert_element(raster_info)"
   ]
  },
  {
   "cell_type": "code",
   "execution_count": 3,
   "metadata": {},
   "outputs": [],
   "source": [
    "# write the metadata file with only RasterInfo element\n",
    "write_metadata(metadata_file=ch1_metadata_filename, metadata_obj=ch1_metadata)"
   ]
  },
  {
   "cell_type": "code",
   "execution_count": 4,
   "metadata": {},
   "outputs": [],
   "source": [
    "# create an additional metadata element, for instance the SwathInfo\n",
    "swath_info = SwathInfo(swath_i=\"SwathName\", polarization_i=\"H/V\", acquisition_prf_i=2000)\n",
    "swath_info.acquisition_start_time = Pdt.from_utc_string(\"1 JAN 2021 00:00:00.00000\")"
   ]
  },
  {
   "cell_type": "code",
   "execution_count": 5,
   "metadata": {},
   "outputs": [],
   "source": [
    "# insert the metadata element in the first metadata channel of the first product folder channel\n",
    "ch1_metadata.insert_element(swath_info)\n",
    "\n",
    "# write the metadata file, overwriting the previous one\n",
    "write_metadata(metadata_file=ch1_metadata_filename, metadata_obj=ch1_metadata)"
   ]
  },
  {
   "cell_type": "code",
   "execution_count": 6,
   "metadata": {},
   "outputs": [],
   "source": [
    "# write the raster file\n",
    "data = np.arange(4).reshape((2, 2))\n",
    "write_raster_with_raster_info(raster_file=ch1_raster_filename, data=data, raster_info=raster_info, start_point=(1, 1))"
   ]
  },
  {
   "cell_type": "code",
   "execution_count": 7,
   "metadata": {},
   "outputs": [
    {
     "name": "stdout",
     "output_type": "stream",
     "text": [
      "\n",
      "MetaDataElement: RasterInfo\n",
      "\n",
      "            file_name: test_out_0001\n",
      "                lines: 5\n",
      "              samples: 5\n",
      "  header_offset_bytes: 0\n",
      "     row_prefix_bytes: 0\n",
      "           byte_order: EByteOrder.le\n",
      "            cell_type: ECellType.float32\n",
      "          lines_start: 0.0\n",
      "     lines_start_unit: \n",
      "           lines_step: 0.0\n",
      "      lines_step_unit: \n",
      "        samples_start: 0.0\n",
      "   samples_start_unit: \n",
      "         samples_step: 0.0\n",
      "    samples_step_unit: \n",
      "        invalid_value: None\n",
      "          format_type: None\n",
      "\n"
     ]
    }
   ],
   "source": [
    "# read metadata and print the raster info\n",
    "meta = read_metadata(metadata_file=ch1_metadata_filename)\n",
    "print(meta.get_raster_info())"
   ]
  },
  {
   "cell_type": "code",
   "execution_count": 8,
   "metadata": {},
   "outputs": [
    {
     "name": "stdout",
     "output_type": "stream",
     "text": [
      "\n",
      "MetaDataElement: SwathInfo\n",
      "\n",
      "                                swath: SwathName\n",
      "                         polarization: EPolarization.hv\n",
      "                      acquisition_prf: 2000.0\n",
      "                 acquisition_prf_unit: Hz\n",
      "              swath_acquisition_order: 0\n",
      "                                 rank: 0\n",
      "                     range_delay_bias: 0.0\n",
      "                range_delay_bias_unit: s\n",
      "               acquisition_start_time: 01-JAN-2021 00:00:00.000000000000\n",
      "          acquisition_start_time_unit: Utc\n",
      " azimuth_steering_rate_reference_time: 0.0\n",
      "       az_steering_rate_ref_time_unit: s\n",
      "                     echoes_per_burst: 0\n",
      "            azimuth_steering_rate_pol: (0.0, 0.0, 0.0)\n",
      "                              rx_gain: None\n",
      "                        channel_delay: None\n",
      "\n"
     ]
    }
   ],
   "source": [
    "# read and print the SwathInfo\n",
    "print(meta.get_swath_info())"
   ]
  },
  {
   "cell_type": "code",
   "execution_count": 9,
   "metadata": {},
   "outputs": [
    {
     "name": "stdout",
     "output_type": "stream",
     "text": [
      "[[0. 0. 0. 0. 0.]\n",
      " [0. 0. 1. 0. 0.]\n",
      " [0. 2. 3. 0. 0.]\n",
      " [0. 0. 0. 0. 0.]\n",
      " [0. 0. 0. 0. 0.]]\n"
     ]
    }
   ],
   "source": [
    "# Read and display raster\n",
    "data_in = read_raster_with_raster_info(raster_file=ch1_raster_filename, raster_info=raster_info)\n",
    "print(data_in)"
   ]
  },
  {
   "cell_type": "code",
   "execution_count": 10,
   "metadata": {},
   "outputs": [],
   "source": [
    "# delete the product\n",
    "pf.delete()"
   ]
  }
 ],
 "metadata": {
  "kernelspec": {
   "display_name": "Python 3",
   "language": "python",
   "name": "python3"
  },
  "language_info": {
   "codemirror_mode": {
    "name": "ipython",
    "version": 3
   },
   "file_extension": ".py",
   "mimetype": "text/x-python",
   "name": "python",
   "nbconvert_exporter": "python",
   "pygments_lexer": "ipython3",
   "version": "3.10.13"
  }
 },
 "nbformat": 4,
 "nbformat_minor": 1
}
